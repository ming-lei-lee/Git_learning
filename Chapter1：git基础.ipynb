{
 "cells": [
  {
   "cell_type": "markdown",
   "metadata": {},
   "source": [
    "### Git基础"
   ]
  },
  {
   "cell_type": "markdown",
   "metadata": {},
   "source": [
    "#### <font color=#8D0000>Git 基础</font>\n",
    "##### <font color=#00CED1>直接记录快照，而不是差异比较</font>\n",
    "Git和其他版本控制系统的主要差异在于，Git只关心文件数据的整体是否发生了变化，而大多数其他系统则只关心文件内容的具体差异。\n",
    "Git并不保存变化前后的差异数据。实际上，Git更像是把变化后的文件做快照后，记录在一个微型的文件系统中。\n",
    "##### <font color=#00CED1>几乎所有的操作都是本地执行</font>\n",
    "在Git中绝大数操作都只需要访问本地的文件和资源，不用联网。因为Git在本地磁盘上就保存着所有项目的历史更新。\n",
    "##### <font color=#00CED1>时刻保持数据的完整性</font>\n",
    "在保存到GIt之前，所有的数据都要进行内容的校验和计算，并将此结果作为数据的唯一标识和索引。这项特性作为Git的设计哲学，建在整体架构的最底层。\n",
    "GIt使用SHA-1算法计算数据的校验和，通过对文件的内容或目录结构计算出一个SHA-1哈希值，作为指纹字符串。\n",
    "Git的工作完全依赖于这类字符串。实际上，所有保存在Git数据库中的东西都是用此哈希值来索引的，而不是靠文件名。\n",
    "##### <font color=#00CED1>多数操作仅添加数据</font>\n",
    "常用的GIt操作仅把数据添加到数据库。\n",
    "##### <font color=#00CED1>文件的三种状态</font>\n",
    "对于任何一种文件，在Git内部只有三种状态：已提交（committed），已修改（modified），已暂存（staged）。已提交表明该文件已被安全保存在本地数据库中了；已修改表明修改了某个文件，但没有提交保存；已暂存表明把已经修改的文件放在下次提交时要保存的清单中了。\n",
    "\n",
    "我们看到GIt管理项目时，文件流转的三个工作区域：Git的工作目录，暂存区域，以及本地仓库。\n",
    "\n",
    "\n",
    "\n",
    "每个项目都有一个Git目录（如果`git clone`出来的话，就是其中`。git`的目录；如果`git clone --bare`的话，新建的目录本身就是Git目录），它是Git存放元数据和数据库的地方。该目录非常重要，每次克隆镜像仓库的时候，实际上拷贝的就是这个目录中的数据。\n",
    "\n",
    "所谓的暂存区只不过是一个简单的文件，一般都放在Git目录中。有时候人们叫它索引文件，不过标准说法还是寄存区域。\n",
    "\n",
    "基本的Git流程如下：\n",
    "1. 在工作目录中修改某些文件。\n",
    "2. 对修改后的文件进行快照，然后保存到暂存区域。\n",
    "3. 提交更新，将暂存区域中的快照永久转储到Git目录（repo）中。\n",
    "\n",
    "\n",
    "\n",
    "\n",
    "\n",
    "\n"
   ]
  },
  {
   "cell_type": "markdown",
   "metadata": {},
   "source": [
    "#### <font color=#8D0000>起步-初次运行Git前的配置</font>"
   ]
  },
  {
   "cell_type": "markdown",
   "metadata": {},
   "source": [
    "##### <font color=#00CED1>初次运行Git前的配置</font>\n",
    "一般在新系统中，我们都需要先配置自己的Git工作环境。配置工作只需一次，以后升级还会沿用现在的配置。当然，你也可以用相同的命令修改已有的配置。\n",
    "Git提供了一个叫做`git config`的工具，专门用来配置或读取相应的工作变量。而正是由这些环境变量，决定了Git在各个环节的具体的工作方式和行为。这些变量可以存放在以下三个不同的地方：\n",
    "- `./etc/gitconfig`文件：系统中对所有都普遍适用的配置。若使用`git config`时用`--system`选项，读写的就是这个文件。\n",
    "- `~/.gitconfig` 文件：用户目录下的配置文件只适用该用户。若使用`git config`时用 `--global` 选项，读写的就是这个文件。\n",
    "- 当前项目的Git目录中的配置文件（也就是工作目录中的`.git/config`文件）：这里的配置仅对当前项目有效。每一个级别的配置都会覆盖上层相同的配置，所以 `.git/config`里的配置会覆盖 `.gitconfig`中的同名变量。\n",
    "\n",
    "##### <font color=#00CED1>用户信息</font>\n",
    "第一个要配置的是你个人的用户名称和电子邮件地址。这两个配置很重要，每一次Git提交都会引用这两条信息，来说明是谁提交了更新，所以会随更新永久纳入历史记录：\n",
    "```\n",
    "$ git config --global user.name *****\n",
    "$ git config --glonal user.email ******\n",
    "```\n",
    "如果用了`--global` 选项，那么更改的配置文件就是位于你用户主目录下的那个，以后你所有的项目都会默认使用这里配置的用户信息。如果你需要在特定项目里使用其他名字或电邮，只要去掉`--global`选项重新配置即可，新的设定保存在当前项目的`.git/config` 文件里。\n",
    "\n",
    "\n",
    "##### <font color=#00CED1>文本编辑器</font>\n",
    "默认会使用操作系统指定的默认编辑器，一般可能是Vi或Vim。如果有其他偏好，可以重新设置：（比如Emacs）\n",
    "```\n",
    "$ git config --global core.editor emacs\n",
    "```\n",
    "\n",
    "##### <font color=#00CED1>差异分析工具</font>\n",
    "还有一个比较常用的是，在解决合并冲突时使用哪种差异分析工具。比如要改用Vimdiff   的话：\n",
    "```\n",
    "$ git config --global merge.tool vimdiff\n",
    "```\n",
    "\n",
    "Git 可以理解 kdiff3, tkdiff, meld, xxdiff, opendiff等合并工具的输出信息。\n",
    "\n",
    "##### <font color=#00CED1>查看配置信息</font>\n",
    "要检查已有配置的信息，可以使用`git config --list`命令。\n",
    "\n",
    "有时会看到重复的变量名，那就说明它们来自不同的配置文件，不过最终Git实际采用的是最后一个。\n",
    "也可以直接查阅某个环境变量的设定，只要把特定的名字跟在后面即可，像这样：\n",
    "```\n",
    "$ git config user.name\n",
    "```\n",
    "\n",
    "\n",
    "\n",
    "\n"
   ]
  },
  {
   "cell_type": "markdown",
   "metadata": {},
   "source": [
    "#### <font color=#8D0000>起步-获得帮助</font>"
   ]
  },
  {
   "cell_type": "markdown",
   "metadata": {},
   "source": [
    "##### <font color=#00CED1>获取帮助</font>\n",
    "想要了解Git的各式工具该怎么用，可以阅读他们的使用帮助，方法有三：\n",
    "```\n",
    "$ git help <verb>\n",
    "$ git <verb> --help\n",
    "$ man git-<verb>\n",
    "```\n",
    "\n",
    "例如：\n",
    "```\n",
    "$ git help config\n",
    "```\n",
    "\n",
    "不过，要是你觉得还不够，可以到（ire.freenode.net）上的 #git 或 #GitHub 频道寻求他人的帮助。\n",
    "\n",
    "\n",
    "\n"
   ]
  },
  {
   "cell_type": "code",
   "execution_count": null,
   "metadata": {},
   "outputs": [],
   "source": []
  }
 ],
 "metadata": {
  "kernelspec": {
   "display_name": "Python 3",
   "language": "python",
   "name": "python3"
  },
  "language_info": {
   "codemirror_mode": {
    "name": "ipython",
    "version": 3
   },
   "file_extension": ".py",
   "mimetype": "text/x-python",
   "name": "python",
   "nbconvert_exporter": "python",
   "pygments_lexer": "ipython3",
   "version": "3.6.7"
  }
 },
 "nbformat": 4,
 "nbformat_minor": 2
}
