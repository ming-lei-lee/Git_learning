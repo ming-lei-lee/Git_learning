{
 "cells": [
  {
   "cell_type": "markdown",
   "metadata": {},
   "source": [
    "### Git 基础\n",
    "本章将介绍几个最基本的，最常用的Git命令。读完本章，你能够初始化一个新的代码仓库，做一些适当配置；开始或停止跟踪某些文件；暂存或提交某些更新。我们还会展示如何让Git忽略某些文件，或是名称符合特定模式的文件；如何即快且容易的撤销犯下的小错；如何浏览项目的更新历史，查看某两次更新之间的差异；以及如何从远程仓库拉数据下来或推数据上去"
   ]
  },
  {
   "cell_type": "markdown",
   "metadata": {},
   "source": [
    "#### <font color=#8D0000>取得项目的Git仓库</font>\n",
    "有两种取得Git项目仓库的方法。第一种是在现存的目录下，通过导入所有文件来创建新的Git仓库。第二种是从已有的Git仓库克隆出一个新的镜像仓库来。"
   ]
  },
  {
   "cell_type": "markdown",
   "metadata": {},
   "source": [
    "##### <font color=#00CED1>在工作目录中初始化新的仓库</font>\n",
    "要对现有的某个项目开始用Git管理，只需到此项目所在的目录，执行：\n",
    "```\n",
    "$ git init\n",
    "```\n",
    "\n",
    "初始化后，在当前的目录下会出现一个名为.git的目录，所有Git需要的数据和资源都存放在这个目录中。\n",
    "如果当前目录中有几个文件想要纳入版本控制，需要先用 `git add` 命令告诉Git开始对这些文件进行跟踪，然后提交：\n",
    "```\n",
    "$ git add **\n",
    "$ git add ****\n",
    "$ git commit -m 'initial project version'\n",
    "```\n",
    "\n",
    "##### <font color=#00CED1>从现有仓库克隆</font>\n",
    "如果想对某个开源项目出一份力，可以先把该项目的Git仓库复制一份出来，这就需要用到`git clone` 命令。\n",
    "克隆仓库的命令格式为`git clone [url]`比如，要克隆 Ruby 语言的 Git 代码仓库 Grit，可以用下面的命令\n",
    "```\n",
    "$ git clone git://github.com/schacon/grit.git\n",
    "```\n",
    "\n",
    "这会在当前目录下创建一个名为 grit 的目录，其中包含一个 .git 的目录，用于保存下载下来的所有版本记录，然后从中取出最新版本的文件拷贝。如果进入这个新建的 grit 目录，你会看到项目中的所有文件已经在里边了，准备好后续的开发和使用。如果希望在克隆的时候，自己定义要新建的项目目录名称，可以在上面的命令末尾指定新的名字：\n",
    "```\n",
    "$ git clone git://github.com/schacon/grit.git mygrit\n",
    "```\n",
    "唯一的差别就是，现在新建的目录成了`mygrit`,其他的一样。\n",
    "\n",
    "Git 支持许多数据传输协议。`git://`协议，`http(s)://`或者`user@server:/path.git`表示SSH传输协议。\n",
    "\n",
    "\n"
   ]
  },
  {
   "cell_type": "markdown",
   "metadata": {},
   "source": [
    "#### <font color=#8D0000>记录每次更新到仓库</font>\n",
    "请记住，工作目录下面的所有文件都不外乎这两种状态：已跟踪或未跟踪。已跟踪的文件是指本来就被纳入版本控制管理的文件，在上次快照中有它们的记录，工作一段时间后，它们的状态可能是未更新，已修改或者已放入暂存区。而所有其他文件都属于未跟踪文件。它们既没有上次更新时的快照，也不在当前的暂存区域。初次克隆某个仓库时，工作目录中的所有文件都属于已跟踪文件，且状态为未修改。\n",
    "\n",
    "在编辑过某些文件之后，Git 将这些文件标为已修改。我们逐步把这些修改过的文件放到暂存区域，直到最后一次性提交所有这些暂存起来的文件，如此重复。"
   ]
  },
  {
   "cell_type": "markdown",
   "metadata": {},
   "source": [
    "##### <font color=#00CED1>检查当前文件的工作状态</font>\n",
    "要确定哪些文件当前处于什么状态，可用`git status`命令。\n",
    "```\n",
    "$ git status\n",
    "```\n",
    "\n",
    "未跟踪的文件意味着Git在之前的快照（提交）中没有这些文件；Git 不会自动将之纳入跟踪范围，除非你明明白白地告诉它“我需要跟踪该文件”，因而不用担心把临时文件什么的也归入版本管理。\n",
    "\n",
    "##### <font color=#00CED1>跟踪新文件</font>\n",
    "使用命令`git add`开始跟踪新文件。所以，要跟踪README文件，运行:\n",
    "```\n",
    "$ git add README\n",
    "```\n",
    "\n",
    "只要在 “Changes to be committed” 这行下面的，就说明是已暂存状态。如果此时提交，那么该文件此时此刻的版本将被留存在历史记录中。你可能会想起之前我们使用 git init 后就运行了 git add 命令，开始跟踪当前目录下的文件。<font color=#FFD700>在 git add 后面可以指明要跟踪的文件或目录路径。如果是目录的话，就说明要递归跟踪该目录下的所有文件。</font>（译注：其实 git add 的潜台词就是把目标文件快照放入暂存区域，也就是 add file into staged area，同时未曾跟踪过的文件标记为需要跟踪。这样就好理解后续 add 操作的实际意义了。）\n",
    "\n",
    "##### <font color=#00CED1>暂存已修改文件</font>\n",
    "文件 benchmarks.rb 出现在 “Changes not staged for commit” 这行下面，说明已跟踪文件的内容发生了变化，但还没有放到暂存区。要暂存这次更新，需要运行 git add 命令（这是个多功能命令，根据目标文件的状态不同，此命令的效果也不同：可以用它开始跟踪新文件，或者把已跟踪的文件放到暂存区，还能用于合并时把有冲突的文件标记为已解决状态等）。现在让我们运行 git add 将 benchmarks.rb 放到暂存区。\n",
    "\n",
    "##### <font color=#00CED1>忽略某些文件</font>\n",
    "一般我们总会有些文件无需纳入 Git 的管理，也不希望它们总出现在未跟踪文件列表。通常都是些自动生成的文件，比如日志文件，或者编译过程中创建的临时文件等。我们可以创建一个名为 `.gitignore` 的文件，列出要忽略的文件模式。来看一个实际的例子：\n",
    "```\n",
    "$ cat .gitigore\n",
    "*.[oa]\n",
    "*~\n",
    "```\n",
    "\n",
    "第一行告诉 Git 忽略所有以 .o 或 .a 结尾的文件。一般这类对象文件和存档文件都是编译过程中出现的，我们用不着跟踪它们的版本。第二行告诉 Git 忽略所有以波浪符（~）结尾的文件，许多文本编辑软件（比如 Emacs）都用这样的文件名保存副本。此外，你可能还需要忽略 log，tmp 或者 pid 目录，以及自动生成的文档等等。<font color=#FFD700>要养成一开始就设置好 .gitignore 文件的习惯，以免将来误提交这类无用的文件</font>\n",
    "\n",
    "文件`.gitignore`的格式规范如下：\n",
    "- 所有空行或以注释符号`#`开头的行都会被Git忽略。\n",
    "- 可以使用标准的glob模式匹配。\n",
    "- 匹配模式最后跟反斜杠说明要忽略的是目录。\n",
    "- 要忽略指定模式以外的文件或目录，可以在模式前加惊叹号（！）取反。\n",
    "\n",
    "所谓的 glob 模式是指 shell 所使用的简化了的正则表达式。星号（*）匹配零个或多个任意字符；[abc] 匹配任何一个列在方括号中的字符（这个例子要么匹配一个 a，要么匹配一个 b，要么匹配一个 c）；问号（?）只匹配一个任意字符；如果在方括号中使用短划线分隔两个字符，表示所有在这两个字符范围内的都可以匹配（比如 [0-9] 表示匹配所有 0 到 9 的数字）。\n",
    "\n",
    "我们再看一个`.gitignore`文件的例子：\n",
    "```\n",
    "# 此为注释\n",
    "# 忽略所有.a 结尾的文件\n",
    "*.a\n",
    "# 但 lib.a 除外\n",
    "!lib.a\n",
    "# 仅忽略项目根目录下的 TODO 文件， 不包括 subdir/TODO\n",
    "/TODO\n",
    "# 忽略 build/ 目录下的所有文件\n",
    "build/\n",
    "# 忽略 doc/ 目录下所有扩展名为txt的文件\n",
    "doc/**/*.txt\n",
    "\n",
    "```\n",
    "\n",
    "##### <font color=#00CED1>查看已暂存和未暂存的更新</font>\n",
    "\n",
    "\n",
    "\n",
    "\n",
    "\n",
    "\n",
    "\n",
    "\n"
   ]
  },
  {
   "cell_type": "markdown",
   "metadata": {},
   "source": [
    "! git status\n"
   ]
  },
  {
   "cell_type": "code",
   "execution_count": 1,
   "metadata": {},
   "outputs": [
    {
     "name": "stderr",
     "output_type": "stream",
     "text": [
      "fatal: not a git repository (or any of the parent directories): .git\n"
     ]
    }
   ],
   "source": []
  },
  {
   "cell_type": "code",
   "execution_count": null,
   "metadata": {},
   "outputs": [],
   "source": []
  }
 ],
 "metadata": {
  "kernelspec": {
   "display_name": "Python 3",
   "language": "python",
   "name": "python3"
  },
  "language_info": {
   "codemirror_mode": {
    "name": "ipython",
    "version": 3
   },
   "file_extension": ".py",
   "mimetype": "text/x-python",
   "name": "python",
   "nbconvert_exporter": "python",
   "pygments_lexer": "ipython3",
   "version": "3.6.7"
  }
 },
 "nbformat": 4,
 "nbformat_minor": 2
}
